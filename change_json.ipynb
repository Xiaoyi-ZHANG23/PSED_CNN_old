{
 "cells": [
  {
   "cell_type": "code",
   "execution_count": 2,
   "metadata": {},
   "outputs": [
    {
     "name": "stdout",
     "output_type": "stream",
     "text": [
      "Modified JSON saved as /projects/p32082/PSED_CNN_old/split/data_mix_2pressure_3_grids/val/clean_modified.json. Total names updated: 8190\n"
     ]
    }
   ],
   "source": [
    "import json\n",
    "\n",
    "# File path\n",
    "json_file_path = \"/projects/p32082/PSED_CNN_old/split/data_mix_2pressure_3_grids/val/clean.json\"\n",
    "\n",
    "# Load the JSON file\n",
    "with open(json_file_path, \"r\") as file:\n",
    "    data = json.load(file)\n",
    "\n",
    "# Extract original names\n",
    "original_names = data[\"name\"]\n",
    "\n",
    "# Create new lists for 1bar and 0p25bar\n",
    "names_1bar = [f\"{name}_1bar\" for name in original_names]  # First half: all 1bar\n",
    "names_0p25bar = [f\"{name}_0.25bar\" for name in original_names]  # Second half: all 0p25bar\n",
    "\n",
    "# Combine them in the desired order\n",
    "modified_names = names_1bar + names_0p25bar\n",
    "\n",
    "# Update the JSON structure\n",
    "data[\"name\"] = modified_names\n",
    "data[\"size\"] = len(modified_names)  # Update the size accordingly\n",
    "\n",
    "# Save the modified JSON file\n",
    "modified_json_path = \"/projects/p32082/PSED_CNN_old/split/data_mix_2pressure_3_grids/val/clean_modified.json\"\n",
    "with open(modified_json_path, \"w\") as file:\n",
    "    json.dump(data, file, indent=4)\n",
    "\n",
    "print(f\"Modified JSON saved as {modified_json_path}. Total names updated: {data['size']}\")\n"
   ]
  },
  {
   "cell_type": "code",
   "execution_count": null,
   "metadata": {},
   "outputs": [],
   "source": []
  }
 ],
 "metadata": {
  "kernelspec": {
   "display_name": "CNN",
   "language": "python",
   "name": "python3"
  },
  "language_info": {
   "codemirror_mode": {
    "name": "ipython",
    "version": 3
   },
   "file_extension": ".py",
   "mimetype": "text/x-python",
   "name": "python",
   "nbconvert_exporter": "python",
   "pygments_lexer": "ipython3",
   "version": "3.11.9"
  }
 },
 "nbformat": 4,
 "nbformat_minor": 2
}
