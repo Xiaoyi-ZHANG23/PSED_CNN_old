{
 "cells": [
  {
   "cell_type": "code",
   "execution_count": 16,
   "metadata": {},
   "outputs": [
    {
     "name": "stdout",
     "output_type": "stream",
     "text": [
      "Update completed and saved to: /projects/p32082/PSED_CNN_old/split/data_mix_2pressure_3_grids/all_0p25bar.csv\n"
     ]
    }
   ],
   "source": [
    "import pandas as pd\n",
    "\n",
    "# File paths\n",
    "all_csv_path = \"/projects/p32082/PSED_CNN_old/split/data_mix_0p25bar_3_grids/all_3grids.csv\"\n",
    "save_csv_path = \"/projects/p32082/PSED_CNN_old/split/data_mix_2pressure_3_grids/all_0p25bar.csv\"\n",
    "bar_csv_path = \"/projects/p32082/PSED_CNN_old/data/1bar_all.csv\"\n",
    "\n",
    "# Load the CSV files\n",
    "df_all = pd.read_csv(all_csv_path)\n",
    "df_bar = pd.read_csv(bar_csv_path)\n",
    "\n",
    "# Ensure 'project' is used as the key column for matching\n",
    "df_all.set_index(\"project\", inplace=True)\n",
    "df_bar.set_index(\"project\", inplace=True)\n",
    "\n",
    "# Update only existing columns in df_all\n",
    "# df_all.update(df_bar[df_all.columns.intersection(df_bar.columns)])\n",
    "\n",
    "# Add new columns from df_bar that are missing in df_all\n",
    "new_columns = df_bar.columns.difference(df_all.columns)\n",
    "df_all = df_all.join(df_bar[new_columns], how=\"left\")\n",
    "\n",
    "# Reset index and save back to CSV\n",
    "df_all.reset_index(inplace=True)\n",
    "df_all.to_csv(save_csv_path, index=False)\n",
    "\n",
    "print(\"Update completed and saved to:\", save_csv_path)\n",
    "\n"
   ]
  },
  {
   "cell_type": "code",
   "execution_count": 17,
   "metadata": {},
   "outputs": [
    {
     "name": "stdout",
     "output_type": "stream",
     "text": [
      "New CSV created with a 'pressure' column set to 1 in /projects/p32082/PSED_CNN_old/split/data_mix_2pressure_3_grids/all_0p25bar_p.csv.\n"
     ]
    }
   ],
   "source": [
    "import csv\n",
    "\n",
    "input_file = '/projects/p32082/PSED_CNN_old/split/data_mix_2pressure_3_grids/all_0p25bar.csv'\n",
    "output_file = '/projects/p32082/PSED_CNN_old/split/data_mix_2pressure_3_grids/all_0p25bar_p.csv'\n",
    "\n",
    "with open(input_file, mode='r', newline='') as infile, open(output_file, mode='w', newline='') as outfile:\n",
    "    reader = csv.DictReader(infile)\n",
    "    # Create the new list of fieldnames (existing ones + the new column)\n",
    "    fieldnames = reader.fieldnames + ['pressure']\n",
    "    \n",
    "    # Initialize the writer with the updated fieldnames\n",
    "    writer = csv.DictWriter(outfile, fieldnames=fieldnames)\n",
    "    writer.writeheader()\n",
    "    \n",
    "    # For each row in the input, set 'pressure' to 1 and write out\n",
    "    for row in reader:\n",
    "        row['pressure'] = 0.25\n",
    "        writer.writerow(row)\n",
    "\n",
    "print(f\"New CSV created with a 'pressure' column set to 1 in {output_file}.\")\n"
   ]
  },
  {
   "cell_type": "code",
   "execution_count": 18,
   "metadata": {},
   "outputs": [
    {
     "name": "stdout",
     "output_type": "stream",
     "text": [
      "Modified CSV saved as /projects/p32082/PSED_CNN_old/split/data_mix_2pressure_3_grids/all_0p25bar_p2.csv.\n"
     ]
    }
   ],
   "source": [
    "import csv\n",
    "\n",
    "input_file = '/projects/p32082/PSED_CNN_old/split/data_mix_2pressure_3_grids/all_0p25bar_p.csv'  # Change to your actual input file\n",
    "output_file = '/projects/p32082/PSED_CNN_old/split/data_mix_2pressure_3_grids/all_0p25bar_p2.csv'  # Name of the modified file\n",
    "\n",
    "with open(input_file, mode='r', newline='') as infile, open(output_file, mode='w', newline='') as outfile:\n",
    "    reader = csv.DictReader(infile)\n",
    "    fieldnames = reader.fieldnames  # Keep the same column order\n",
    "    \n",
    "    # Initialize the writer with the updated fieldnames\n",
    "    writer = csv.DictWriter(outfile, fieldnames=fieldnames)\n",
    "    writer.writeheader()\n",
    "    \n",
    "    for row in reader:\n",
    "        pressure = row['pressure']\n",
    "        row['sample'] = f\"{row['sample']}_{pressure}bar\"\n",
    "        writer.writerow(row)\n",
    "\n",
    "print(f\"Modified CSV saved as {output_file}.\")\n"
   ]
  },
  {
   "cell_type": "code",
   "execution_count": 19,
   "metadata": {},
   "outputs": [
    {
     "name": "stdout",
     "output_type": "stream",
     "text": [
      "Combined CSV saved as /projects/p32082/PSED_CNN_old/split/data_mix_2pressure_3_grids/all_combined.csv. Total rows: 81894\n"
     ]
    }
   ],
   "source": [
    "import pandas as pd\n",
    "\n",
    "# File paths\n",
    "file_2 = \"/projects/p32082/PSED_CNN_old/split/data_mix_2pressure_3_grids/all_0p25bar_p2.csv\"\n",
    "file_1 = \"/projects/p32082/PSED_CNN_old/split/data_mix_2pressure_3_grids/all_1bar_p2.csv\"\n",
    "output_file = \"/projects/p32082/PSED_CNN_old/split/data_mix_2pressure_3_grids/all_combined.csv\"\n",
    "# Load the CSV files\n",
    "df1 = pd.read_csv(file_1)\n",
    "df2 = pd.read_csv(file_2)\n",
    "\n",
    "\n",
    "\n",
    "# Combine the dataframes by appending rows\n",
    "df_combined = pd.concat([df1, df2], ignore_index=True)\n",
    "\n",
    "# Save the combined dataframe\n",
    "df_combined.to_csv(output_file, index=False)\n",
    "\n",
    "print(f\"Combined CSV saved as {output_file}. Total rows: {len(df_combined)}\")\n"
   ]
  },
  {
   "cell_type": "code",
   "execution_count": 20,
   "metadata": {},
   "outputs": [
    {
     "name": "stdout",
     "output_type": "stream",
     "text": [
      "Combined CSV saved as /projects/p32082/PSED_CNN_old/split/data_mix_allpressure_3_grids/all_combined.csv. Total rows: 245658\n"
     ]
    }
   ],
   "source": [
    "import pandas as pd\n",
    "\n",
    "# File paths\n",
    "file_2 = \"/projects/p32082/PSED_CNN_old/split/data_mix_allpressure_3_grids/all_0p25bar_p2.csv\"\n",
    "file_4 = \"/projects/p32082/PSED_CNN_old/split/data_mix_allpressure_3_grids/all_1bar_p2.csv\"\n",
    "file_1 = \"/projects/p32082/PSED_CNN_old/split/data_mix_allpressure_3_grids/all_0p1bar_p2.csv\"\n",
    "file_3 = \"/projects/p32082/PSED_CNN_old/split/data_mix_allpressure_3_grids/all_0p5bar_p2.csv\"\n",
    "file_5 = \"/projects/p32082/PSED_CNN_old/split/data_mix_allpressure_3_grids/all_5bar_p2.csv\"\n",
    "file_6 = \"/projects/p32082/PSED_CNN_old/split/data_mix_allpressure_3_grids/all_10bar_p2.csv\"\n",
    "output_file = \"/projects/p32082/PSED_CNN_old/split/data_mix_allpressure_3_grids/all_combined.csv\"\n",
    "\n",
    "# Load the CSV files\n",
    "df1 = pd.read_csv(file_1)\n",
    "df2 = pd.read_csv(file_2)\n",
    "df3 = pd.read_csv(file_3)\n",
    "df4 = pd.read_csv(file_4)\n",
    "df5 = pd.read_csv(file_5)\n",
    "df6 = pd.read_csv(file_6)\n",
    "\n",
    "\n",
    "# Combine the dataframes by appending rows\n",
    "df_combined = pd.concat([df1, df2,df3,df4,df5,df6], ignore_index=True)\n",
    "\n",
    "# Save the combined dataframe\n",
    "df_combined.to_csv(output_file, index=False)\n",
    "\n",
    "print(f\"Combined CSV saved as {output_file}. Total rows: {len(df_combined)}\")\n"
   ]
  },
  {
   "cell_type": "code",
   "execution_count": null,
   "metadata": {},
   "outputs": [],
   "source": []
  },
  {
   "cell_type": "code",
   "execution_count": null,
   "metadata": {},
   "outputs": [],
   "source": []
  }
 ],
 "metadata": {
  "kernelspec": {
   "display_name": "CNN",
   "language": "python",
   "name": "python3"
  },
  "language_info": {
   "codemirror_mode": {
    "name": "ipython",
    "version": 3
   },
   "file_extension": ".py",
   "mimetype": "text/x-python",
   "name": "python",
   "nbconvert_exporter": "python",
   "pygments_lexer": "ipython3",
   "version": "3.11.9"
  }
 },
 "nbformat": 4,
 "nbformat_minor": 2
}
